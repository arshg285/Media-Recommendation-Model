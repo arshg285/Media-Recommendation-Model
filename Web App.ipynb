{
 "cells": [
  {
   "cell_type": "markdown",
   "id": "fd9ee5fd",
   "metadata": {},
   "source": [
    "# PIC 16B Project"
   ]
  },
  {
   "cell_type": "markdown",
   "id": "1cb87e19",
   "metadata": {},
   "source": [
    "## Importing the Python file containing all function definitions"
   ]
  },
  {
   "cell_type": "code",
   "execution_count": null,
   "id": "03e8330a",
   "metadata": {},
   "outputs": [],
   "source": [
    "from function_definitions import WebApp"
   ]
  },
  {
   "cell_type": "code",
   "execution_count": null,
   "id": "860d3720",
   "metadata": {},
   "outputs": [],
   "source": [
    "app = WebApp()"
   ]
  },
  {
   "cell_type": "markdown",
   "id": "30021ea3",
   "metadata": {},
   "source": [
    "## Running the webapp"
   ]
  },
  {
   "cell_type": "code",
   "execution_count": null,
   "id": "6edcef3f",
   "metadata": {},
   "outputs": [],
   "source": [
    "app.run_app()"
   ]
  },
  {
   "cell_type": "markdown",
   "id": "7d788ac5",
   "metadata": {},
   "source": [
    "## Calling webscraper from the terminal"
   ]
  },
  {
   "cell_type": "code",
   "execution_count": null,
   "id": "9f1bf266",
   "metadata": {},
   "outputs": [],
   "source": [
    "%%bash\n",
    "cd /Users/hiral/Desktop/Project\n",
    "scrapy crawl movies -o movies.csv"
   ]
  },
  {
   "cell_type": "markdown",
   "id": "1bd8620f",
   "metadata": {},
   "source": [
    "## Get all pages for keywords"
   ]
  },
  {
   "cell_type": "code",
   "execution_count": null,
   "id": "b15a22e9",
   "metadata": {},
   "outputs": [],
   "source": [
    "app.get_pages()"
   ]
  },
  {
   "cell_type": "markdown",
   "id": "5340598f",
   "metadata": {},
   "source": [
    "## Scrape movie posters"
   ]
  },
  {
   "cell_type": "code",
   "execution_count": null,
   "id": "b6558905",
   "metadata": {},
   "outputs": [],
   "source": [
    "app.get_posters()"
   ]
  },
  {
   "cell_type": "markdown",
   "id": "6df0740c",
   "metadata": {},
   "source": [
    "## Insert table with images"
   ]
  },
  {
   "cell_type": "code",
   "execution_count": null,
   "id": "b0e342eb",
   "metadata": {},
   "outputs": [],
   "source": [
    "app.create_images()"
   ]
  },
  {
   "cell_type": "markdown",
   "id": "b625a1bc",
   "metadata": {},
   "source": [
    "## Display results"
   ]
  },
  {
   "cell_type": "code",
   "execution_count": null,
   "id": "d6d3a409",
   "metadata": {},
   "outputs": [],
   "source": [
    "app.display_results()"
   ]
  },
  {
   "cell_type": "markdown",
   "id": "a2ab1048",
   "metadata": {},
   "source": [
    "## Delete movies file"
   ]
  },
  {
   "cell_type": "code",
   "execution_count": null,
   "id": "fe8df993",
   "metadata": {},
   "outputs": [],
   "source": [
    "app.delete_csv()"
   ]
  }
 ],
 "metadata": {
  "kernelspec": {
   "display_name": "Python 3 (ipykernel)",
   "language": "python",
   "name": "python3"
  },
  "language_info": {
   "codemirror_mode": {
    "name": "ipython",
    "version": 3
   },
   "file_extension": ".py",
   "mimetype": "text/x-python",
   "name": "python",
   "nbconvert_exporter": "python",
   "pygments_lexer": "ipython3",
   "version": "3.8.11"
  }
 },
 "nbformat": 4,
 "nbformat_minor": 5
}
